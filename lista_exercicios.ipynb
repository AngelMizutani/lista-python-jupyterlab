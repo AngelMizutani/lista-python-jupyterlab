{
 "cells": [
  {
   "cell_type": "code",
   "execution_count": 1,
   "id": "b34daac2-0537-4036-b83e-c37c46d816fa",
   "metadata": {},
   "outputs": [
    {
     "name": "stdout",
     "output_type": "stream",
     "text": [
      "10\n"
     ]
    }
   ],
   "source": [
    "'''1. Crie duas variáveis, num1 e num2, e atribua diferentes valores inteiros para cada uma delas. \n",
    "Exiba a soma das variáveis.\n",
    "'''\n",
    "num1 = 3\n",
    "num2 = 7\n",
    "print(num1 + num2)"
   ]
  },
  {
   "cell_type": "code",
   "execution_count": 2,
   "id": "13301b39-eee6-4d16-be0d-06c6721ec3af",
   "metadata": {},
   "outputs": [
    {
     "name": "stdout",
     "output_type": "stream",
     "text": [
      "21\n"
     ]
    }
   ],
   "source": [
    "'''\n",
    "2. Utilizando as variáveis criadas no exercício anterior, exiba na tela o resultado da multiplicação entre elas.\n",
    "'''\n",
    "print(num1 * num2)"
   ]
  },
  {
   "cell_type": "code",
   "execution_count": 3,
   "id": "6154c3bf-e8d9-4afa-9c73-f362e03d2e9f",
   "metadata": {},
   "outputs": [
    {
     "name": "stdout",
     "output_type": "stream",
     "text": [
      "5.666666666666667\n"
     ]
    }
   ],
   "source": [
    "'''\n",
    "3. Crie três variáveis, nota1, nota2 e nota3, atribua diferentes valores para cada uma delas e \n",
    "salve o valor da média das notas em outra variável. Em seguida, exiba a média.\n",
    "'''\n",
    "nota1 = 6.0\n",
    "nota2 = 4.0\n",
    "nota3 = 7.0\n",
    "\n",
    "media = (nota1 + nota2 + nota3) / 3\n",
    "print(media)"
   ]
  },
  {
   "cell_type": "code",
   "execution_count": 4,
   "id": "6cc679bb-4048-4339-baa9-cf8739ee9d2d",
   "metadata": {},
   "outputs": [
    {
     "name": "stdout",
     "output_type": "stream",
     "text": [
      "Positivo\n"
     ]
    }
   ],
   "source": [
    "'''\n",
    "4. Crie um programa que verifica se num1 é positivo ou negativo. \n",
    "'''\n",
    "if (num1 > 0):\n",
    "    print('Positivo')\n",
    "else:\n",
    "    print('Negativo')"
   ]
  },
  {
   "cell_type": "code",
   "execution_count": 5,
   "id": "c573368f-63af-4235-8ce0-e916b10faccd",
   "metadata": {},
   "outputs": [
    {
     "name": "stdout",
     "output_type": "stream",
     "text": [
      "Impar\n"
     ]
    }
   ],
   "source": [
    "'''\n",
    "5. Crie um programa que verifica se num2 é par ou impar.\n",
    "'''\n",
    "if (num2 % 2 == 0):\n",
    "    print('Par')\n",
    "else:\n",
    "    print('Impar')"
   ]
  },
  {
   "cell_type": "code",
   "execution_count": 6,
   "id": "856cee53-6e92-4c3e-8f96-c6cefff103a0",
   "metadata": {},
   "outputs": [
    {
     "name": "stdout",
     "output_type": "stream",
     "text": [
      "Recuperação\n"
     ]
    }
   ],
   "source": [
    "'''\n",
    "6. Usando as variáveis do exercício 3, informe se o estudante foi aprovado (média >= 6.0), \n",
    "está em recuperação (média entre 4.0 e 6.0), ou se foi reprovado (média < 4.0).\n",
    "'''\n",
    "if (media >= 6.0):\n",
    "    print('Aprovado')\n",
    "elif (media >= 4.0 and media < 6.0):\n",
    "    print('Recuperação')\n",
    "else:\n",
    "    print('Reprovado')"
   ]
  },
  {
   "cell_type": "code",
   "execution_count": 7,
   "id": "5f4383b5-56a2-4307-8d83-8040d6e6657c",
   "metadata": {},
   "outputs": [
    {
     "name": "stdout",
     "output_type": "stream",
     "text": [
      "Criança\n"
     ]
    }
   ],
   "source": [
    "'''\n",
    "7. Crie uma variável para armazenar o valor da idade e informe a categoria etária:\n",
    "\tCriança (idade < 12 anos)\n",
    "\tAdolescente (idade entre 12 e 18 anos)\n",
    "\tAdulto (idade entre 18 e 60 anos)\n",
    "\tIdoso (idade >= 60 anos)\n",
    "'''\n",
    "idade = 4\n",
    "if (idade < 12):\n",
    "    print('Criança')\n",
    "elif (idade >= 12 and idade < 18):\n",
    "    print('Adolescente')\n",
    "elif (idade >= 18 and idade < 60):\n",
    "    print('Adulto')\n",
    "else:\n",
    "    print('Idoso')"
   ]
  },
  {
   "cell_type": "code",
   "execution_count": 8,
   "id": "12759c25-fba0-4b0d-a7e3-725c2c2fe368",
   "metadata": {},
   "outputs": [
    {
     "name": "stdout",
     "output_type": "stream",
     "text": [
      "1\n",
      "2\n",
      "3\n",
      "4\n",
      "5\n",
      "6\n",
      "7\n",
      "8\n",
      "9\n",
      "10\n"
     ]
    }
   ],
   "source": [
    "'''\n",
    "8. Exiba na tela os números de 1 a 10 usando o comando “while”.\n",
    "'''\n",
    "cont = 1\n",
    "while (cont <= 10):\n",
    "    print(cont)\n",
    "    cont += 1"
   ]
  },
  {
   "cell_type": "code",
   "execution_count": 9,
   "id": "9dbe9164-3d2e-4db7-8a49-62060bd1465f",
   "metadata": {},
   "outputs": [
    {
     "name": "stdout",
     "output_type": "stream",
     "text": [
      "1\n",
      "2\n",
      "3\n",
      "4\n",
      "5\n",
      "6\n",
      "7\n",
      "8\n",
      "9\n",
      "10\n"
     ]
    }
   ],
   "source": [
    "'''\n",
    "9. Imprima na tela os números de 1 a 10 usando o comando “for”\n",
    "'''\n",
    "for cont in range(1, 11):\n",
    "    print(cont)"
   ]
  },
  {
   "cell_type": "code",
   "execution_count": 10,
   "id": "c21e46e8-f0ae-4073-856b-a6accd2c55d0",
   "metadata": {},
   "outputs": [
    {
     "name": "stdout",
     "output_type": "stream",
     "text": [
      "3 x 1 = 3\n",
      "3 x 2 = 6\n",
      "3 x 3 = 9\n",
      "3 x 4 = 12\n",
      "3 x 5 = 15\n",
      "3 x 6 = 18\n",
      "3 x 7 = 21\n",
      "3 x 8 = 24\n",
      "3 x 9 = 27\n",
      "3 x 10 = 30\n"
     ]
    }
   ],
   "source": [
    "'''\n",
    "10. Exiba a tabuada da variável num1.\n",
    "'''\n",
    "for cont in range (1, 11):\n",
    "    print(f\"{num1} x {cont} = {num1 * cont}\")"
   ]
  },
  {
   "cell_type": "code",
   "execution_count": 11,
   "id": "1aa38799-dd56-4038-8af5-8d1c60224f41",
   "metadata": {},
   "outputs": [
    {
     "name": "stdout",
     "output_type": "stream",
     "text": [
      "0\n",
      "10\n",
      "20\n",
      "30\n",
      "40\n",
      "50\n",
      "60\n",
      "70\n",
      "80\n",
      "90\n",
      "100\n"
     ]
    }
   ],
   "source": [
    "'''\n",
    "11. Exiba os números de 0 a 100 de 10 em 10 usando “while”.\n",
    "'''\n",
    "num = 0\n",
    "while (num <= 100):\n",
    "    print(num)\n",
    "    num += 10"
   ]
  },
  {
   "cell_type": "code",
   "execution_count": 12,
   "id": "49ff6d65-6249-40c2-b94d-5a987cf3b523",
   "metadata": {},
   "outputs": [
    {
     "name": "stdout",
     "output_type": "stream",
     "text": [
      "0\n",
      "2\n",
      "4\n",
      "6\n",
      "8\n",
      "10\n",
      "12\n",
      "14\n",
      "16\n",
      "18\n",
      "20\n"
     ]
    }
   ],
   "source": [
    "'''\n",
    "12. Exiba os números pares de 0 a 20 usando “for”.\n",
    "'''\n",
    "for cont in range(0, 21, 2):\n",
    "    print(cont)"
   ]
  },
  {
   "cell_type": "code",
   "execution_count": 13,
   "id": "1add0cbf-37fb-4bd9-843b-448d6212694b",
   "metadata": {},
   "outputs": [
    {
     "data": {
      "text/plain": [
       "86.0"
      ]
     },
     "execution_count": 13,
     "metadata": {},
     "output_type": "execute_result"
    }
   ],
   "source": [
    "'''\n",
    "13. Crie uma função que converta a temperatura em Celsius para Fahrenheit (F = C * 1.8 + 32)\n",
    "'''\n",
    "def converterTemperatura(tempC):\n",
    "    return tempC * 1.8 + 32\n",
    "\n",
    "converterTemperatura(30)"
   ]
  },
  {
   "cell_type": "code",
   "execution_count": 19,
   "id": "12499970-2f0d-4a49-a66b-c1b48417e606",
   "metadata": {},
   "outputs": [
    {
     "name": "stdin",
     "output_type": "stream",
     "text": [
      "Digite um numero:  3\n",
      "Digite outro numero:  4\n"
     ]
    },
    {
     "name": "stdout",
     "output_type": "stream",
     "text": [
      "\n",
      "        Escolha a operação:\n",
      "        1. Soma\n",
      "        2. Subtração\n",
      "        3. Multiplicação\n",
      "        4. Divisão\n",
      "    \n"
     ]
    },
    {
     "name": "stdin",
     "output_type": "stream",
     "text": [
      "Sua opção:  4\n"
     ]
    },
    {
     "name": "stdout",
     "output_type": "stream",
     "text": [
      "0.75\n"
     ]
    }
   ],
   "source": [
    "'''\n",
    "14. Crie uma função que simula uma calculadora, solicitando dois números ao usuário e a operação desejada.\n",
    "'''\n",
    "def calculadora():\n",
    "    num1 = float(input('Digite um numero: '))\n",
    "    num2 = float(input('Digite outro numero: '))\n",
    "\n",
    "    print('''\n",
    "        Escolha a operação:\n",
    "        1. Soma\n",
    "        2. Subtração\n",
    "        3. Multiplicação\n",
    "        4. Divisão\n",
    "    ''')\n",
    "\n",
    "    opcao = int(input('Sua opção: '))\n",
    "\n",
    "    if (opcao == 1):\n",
    "        return num1 + num2\n",
    "    elif (opcao == 2):\n",
    "        return num1 - num2\n",
    "    elif (opcao == 3):\n",
    "        return num1 * num2\n",
    "    else:\n",
    "        return num1 /num2\n",
    "\n",
    "\n",
    "print(calculadora())"
   ]
  },
  {
   "cell_type": "code",
   "execution_count": null,
   "id": "4b948598-896e-46a7-8866-43d6cdc2e614",
   "metadata": {},
   "outputs": [],
   "source": []
  }
 ],
 "metadata": {
  "kernelspec": {
   "display_name": "Python 3 (ipykernel)",
   "language": "python",
   "name": "python3"
  },
  "language_info": {
   "codemirror_mode": {
    "name": "ipython",
    "version": 3
   },
   "file_extension": ".py",
   "mimetype": "text/x-python",
   "name": "python",
   "nbconvert_exporter": "python",
   "pygments_lexer": "ipython3",
   "version": "3.12.7"
  }
 },
 "nbformat": 4,
 "nbformat_minor": 5
}
