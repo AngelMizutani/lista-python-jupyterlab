{
 "cells": [
  {
   "cell_type": "code",
   "execution_count": 1,
   "id": "b34daac2-0537-4036-b83e-c37c46d816fa",
   "metadata": {},
   "outputs": [
    {
     "name": "stdout",
     "output_type": "stream",
     "text": [
      "10\n"
     ]
    }
   ],
   "source": [
    "'''1. Crie duas variáveis, num1 e num2, e atribua diferentes valores inteiros para cada uma delas. \n",
    "Exiba a soma das variáveis.\n",
    "'''\n",
    "num1 = 3\n",
    "num2 = 7\n",
    "print(num1 + num2)"
   ]
  },
  {
   "cell_type": "code",
   "execution_count": 2,
   "id": "13301b39-eee6-4d16-be0d-06c6721ec3af",
   "metadata": {},
   "outputs": [
    {
     "name": "stdout",
     "output_type": "stream",
     "text": [
      "21\n"
     ]
    }
   ],
   "source": [
    "'''\n",
    "2. Utilizando as variáveis criadas no exercício anterior, exiba na tela o resultado da multiplicação entre elas.\n",
    "'''\n",
    "print(num1 * num2)"
   ]
  },
  {
   "cell_type": "code",
   "execution_count": 3,
   "id": "6154c3bf-e8d9-4afa-9c73-f362e03d2e9f",
   "metadata": {},
   "outputs": [
    {
     "name": "stdout",
     "output_type": "stream",
     "text": [
      "5.666666666666667\n"
     ]
    }
   ],
   "source": [
    "'''\n",
    "3. Crie três variáveis, nota1, nota2 e nota3, atribua diferentes valores para cada uma delas e \n",
    "salve o valor da média das notas em outra variável. Em seguida, exiba a média.\n",
    "'''\n",
    "nota1 = 6.0\n",
    "nota2 = 4.0\n",
    "nota3 = 7.0\n",
    "\n",
    "media = (nota1 + nota2 + nota3) / 3\n",
    "print(media)"
   ]
  },
  {
   "cell_type": "code",
   "execution_count": 4,
   "id": "6cc679bb-4048-4339-baa9-cf8739ee9d2d",
   "metadata": {},
   "outputs": [
    {
     "name": "stdout",
     "output_type": "stream",
     "text": [
      "Positivo\n"
     ]
    }
   ],
   "source": [
    "'''\n",
    "4. Crie um programa que verifica se num1 é positivo ou negativo. \n",
    "'''\n",
    "if (num1 > 0):\n",
    "    print('Positivo')\n",
    "else:\n",
    "    print('Negativo')"
   ]
  },
  {
   "cell_type": "code",
   "execution_count": 5,
   "id": "c573368f-63af-4235-8ce0-e916b10faccd",
   "metadata": {},
   "outputs": [
    {
     "name": "stdout",
     "output_type": "stream",
     "text": [
      "Impar\n"
     ]
    }
   ],
   "source": [
    "'''\n",
    "5. Crie um programa que verifica se num2 é par ou impar.\n",
    "'''\n",
    "if (num2 % 2 == 0):\n",
    "    print('Par')\n",
    "else:\n",
    "    print('Impar')"
   ]
  },
  {
   "cell_type": "code",
   "execution_count": 6,
   "id": "856cee53-6e92-4c3e-8f96-c6cefff103a0",
   "metadata": {},
   "outputs": [
    {
     "name": "stdout",
     "output_type": "stream",
     "text": [
      "Recuperação\n"
     ]
    }
   ],
   "source": [
    "'''\n",
    "6. Usando as variáveis do exercício 3, informe se o estudante foi aprovado (média >= 6.0), \n",
    "está em recuperação (média entre 4.0 e 6.0), ou se foi reprovado (média < 4.0).\n",
    "'''\n",
    "if (media >= 6.0):\n",
    "    print('Aprovado')\n",
    "elif (media >= 4.0 and media < 6.0):\n",
    "    print('Recuperação')\n",
    "else:\n",
    "    print('Reprovado')"
   ]
  },
  {
   "cell_type": "code",
   "execution_count": null,
   "id": "5f4383b5-56a2-4307-8d83-8040d6e6657c",
   "metadata": {},
   "outputs": [],
   "source": [
    "'''\n",
    "7. Crie uma variável para armazenar o valor da idade e informe a categoria etária:\n",
    "\tCriança (idade < 12 anos)\n",
    "\tAdolescente (idade entre 12 e 18 anos)\n",
    "\tAdulto (idade entre 18 e 60 anos)\n",
    "\tIdoso (idade >= 60 anos)\n",
    "'''"
   ]
  }
 ],
 "metadata": {
  "kernelspec": {
   "display_name": "Python 3 (ipykernel)",
   "language": "python",
   "name": "python3"
  },
  "language_info": {
   "codemirror_mode": {
    "name": "ipython",
    "version": 3
   },
   "file_extension": ".py",
   "mimetype": "text/x-python",
   "name": "python",
   "nbconvert_exporter": "python",
   "pygments_lexer": "ipython3",
   "version": "3.12.7"
  }
 },
 "nbformat": 4,
 "nbformat_minor": 5
}
